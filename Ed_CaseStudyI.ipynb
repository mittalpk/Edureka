{
  "nbformat": 4,
  "nbformat_minor": 0,
  "metadata": {
    "colab": {
      "provenance": [],
      "authorship_tag": "ABX9TyPFUgwXNFiJXcYur9+qAqlG",
      "include_colab_link": true
    },
    "kernelspec": {
      "name": "python3",
      "display_name": "Python 3"
    },
    "language_info": {
      "name": "python"
    }
  },
  "cells": [
    {
      "cell_type": "markdown",
      "metadata": {
        "id": "view-in-github",
        "colab_type": "text"
      },
      "source": [
        "<a href=\"https://colab.research.google.com/github/mittalpk/Edureka/blob/main/Ed_CaseStudyI.ipynb\" target=\"_parent\"><img src=\"https://colab.research.google.com/assets/colab-badge.svg\" alt=\"Open In Colab\"/></a>"
      ]
    },
    {
      "cell_type": "markdown",
      "source": [
        "1. What is the output of the following code?"
      ],
      "metadata": {
        "id": "drkU3KzvMc8v"
      }
    },
    {
      "cell_type": "code",
      "source": [
        "nums =set([1,1,2,3,3,3,4,4])\n",
        "print(len(nums))"
      ],
      "metadata": {
        "colab": {
          "base_uri": "https://localhost:8080/"
        },
        "id": "_oGNu5YnMer_",
        "outputId": "d077326c-f34a-459f-cd44-5940cbbd6840"
      },
      "execution_count": null,
      "outputs": [
        {
          "output_type": "stream",
          "name": "stdout",
          "text": [
            "4\n"
          ]
        }
      ]
    },
    {
      "cell_type": "markdown",
      "source": [
        "2. What will be the output?"
      ],
      "metadata": {
        "id": "rNgAggoqMkJu"
      }
    },
    {
      "cell_type": "code",
      "source": [
        "d ={\"john\":40, \"peter\":45}\n",
        "print(list(d.keys()))"
      ],
      "metadata": {
        "colab": {
          "base_uri": "https://localhost:8080/"
        },
        "id": "725SiaTO_H41",
        "outputId": "e761ca88-a058-4e94-b54b-93df4715cceb"
      },
      "execution_count": null,
      "outputs": [
        {
          "output_type": "stream",
          "name": "stdout",
          "text": [
            "['john', 'peter']\n"
          ]
        }
      ]
    },
    {
      "cell_type": "markdown",
      "source": [
        "A3.  website requires a user to input username and password to register. Write a program to check the validity of password given by user. Following are the criteria for checking password:1. At least 1 letter between [a-z]2. At least 1 number between [0-9]1. At least 1 letter between [A-Z]3. At least 1 character from [$#@]4. Minimum length of transaction password: 65. Maximum length of transaction password: 12Hint: In case of input data being supplied to the question, it should be assumed to be a console input."
      ],
      "metadata": {
        "id": "YxwWrjkVMAgE"
      }
    },
    {
      "cell_type": "code",
      "source": [
        "def is_valid_password(password):\n",
        "    if len(password) < 6 or len(password) > 12:\n",
        "        return False\n",
        "\n",
        "    has_lower = False\n",
        "    has_upper = False\n",
        "    has_digit = False\n",
        "    has_special = False\n",
        "\n",
        "    special_chars = \"$#@\"\n",
        "    for char in password:\n",
        "        if char.islower():\n",
        "            has_lower = True\n",
        "        elif char.isupper():\n",
        "            has_upper = True\n",
        "        elif char.isdigit():\n",
        "            has_digit = True\n",
        "        elif char in special_chars:\n",
        "            has_special = True\n",
        "\n",
        "    return has_lower and has_upper and has_digit and has_special\n",
        "\n",
        "if is_valid_password(str(input(\"Password,: \"))):\n",
        "  print(\"Password is valid.\")\n",
        "else:\n",
        "  print(\"Password is invalid.\")\n",
        "\n"
      ],
      "metadata": {
        "colab": {
          "base_uri": "https://localhost:8080/"
        },
        "id": "uPPSqus0_vur",
        "outputId": "b12652b8-5f2e-4f2f-9809-b7edae0e7e02"
      },
      "execution_count": null,
      "outputs": [
        {
          "output_type": "stream",
          "name": "stdout",
          "text": [
            "Password,: Spain45!\n",
            "Password is invalid.\n"
          ]
        }
      ]
    },
    {
      "cell_type": "markdown",
      "source": [
        "4. Write a for loop that prints all elements of a list and their position in the list.a = [4,7,3,2,5,9] Hint: Use Loop to iterate through list elements."
      ],
      "metadata": {
        "id": "LKQDE8TnL7Tz"
      }
    },
    {
      "cell_type": "code",
      "source": [
        "a = [4,7,3,2,5,9]\n",
        "for i in range(0,len(a)):\n",
        "  print (\"Element: \",a[i],\",Position: \",i)"
      ],
      "metadata": {
        "colab": {
          "base_uri": "https://localhost:8080/"
        },
        "id": "x0S2HQnaACij",
        "outputId": "24ac045d-f126-4310-bf18-4dc140caf649"
      },
      "execution_count": null,
      "outputs": [
        {
          "output_type": "stream",
          "name": "stdout",
          "text": [
            "Element:  4 ,Position:  0\n",
            "Element:  7 ,Position:  1\n",
            "Element:  3 ,Position:  2\n",
            "Element:  2 ,Position:  3\n",
            "Element:  5 ,Position:  4\n",
            "Element:  9 ,Position:  5\n"
          ]
        }
      ]
    },
    {
      "cell_type": "markdown",
      "source": [
        "5. Please   write   a   program   which   accepts  a   string   from console   and   print   the characters that have even indexes.Example: If the following string is given as input to the program:H1e2l3l4o5w6o7r8l9dThen, the output of the program should be:Helloworld"
      ],
      "metadata": {
        "id": "cvNQwPJhLvsj"
      }
    },
    {
      "cell_type": "code",
      "source": [
        "InputString = str(input(\"String Input: \"))\n",
        "OutString = \"\"\n",
        "for i in range(0,len(InputString)):\n",
        "  if i % 2 == 0 or i == 0:\n",
        "    OutString = OutString + InputString[i]\n",
        "print(OutString)\n"
      ],
      "metadata": {
        "colab": {
          "base_uri": "https://localhost:8080/"
        },
        "id": "X4QnsX84BaMW",
        "outputId": "5992e0c5-8b23-4a02-8c5c-acb4c9957a69"
      },
      "execution_count": null,
      "outputs": [
        {
          "output_type": "stream",
          "name": "stdout",
          "text": [
            "String Input: Hello9883HHlsbs\n",
            "Hlo83Hss\n"
          ]
        }
      ]
    },
    {
      "cell_type": "markdown",
      "source": [
        "6. Please write a program which accepts a string from console and print it in reverse order.Example: If the following string is given as input to the program: rise to vote sirThen, the output of the programshould be:ris etov ot esir"
      ],
      "metadata": {
        "id": "MCoPVAYjLluH"
      }
    },
    {
      "cell_type": "code",
      "source": [
        "InputString = str(input(\"String Input: \"))\n",
        "OutString = \"\"\n",
        "for i in range(len(InputString)-1,-1,-1):\n",
        "  OutString = OutString + InputString[i]\n",
        "print(OutString)\n"
      ],
      "metadata": {
        "colab": {
          "base_uri": "https://localhost:8080/"
        },
        "id": "2_nBamaxCT-W",
        "outputId": "eeb28337-83dd-4ca7-83b8-87f3032eba04"
      },
      "execution_count": null,
      "outputs": [
        {
          "output_type": "stream",
          "name": "stdout",
          "text": [
            "String Input: jhsdjg sjdb ksdhd\n",
            "dhdsk bdjs gjdshj\n"
          ]
        }
      ]
    },
    {
      "cell_type": "markdown",
      "source": [
        "Please write a program which count and print the numbers of each character in a string input by console.Example: If the following string is given as input to the program:abcdefgabcThen, the output of the program should be:a,2c,2b,2e,1d,1g,1f,1"
      ],
      "metadata": {
        "id": "rN4Takr_LMFY"
      }
    },
    {
      "cell_type": "code",
      "source": [
        "InputString = str(input(\"String Input: \"))\n",
        "char_count = {}\n",
        "for char in InputString:\n",
        "    if char in char_count:\n",
        "        char_count[char] += 1\n",
        "    else:\n",
        "        char_count[char] = 1\n",
        "\n",
        "printed = set()\n",
        "for char in InputString:\n",
        "    if char not in printed:\n",
        "        print(char,\",\",char_count[char])\n",
        "        printed.add(char)\n"
      ],
      "metadata": {
        "colab": {
          "base_uri": "https://localhost:8080/"
        },
        "id": "09525oMcDPL9",
        "outputId": "4af39f18-b429-4676-ead6-5e7a873494c8"
      },
      "execution_count": null,
      "outputs": [
        {
          "output_type": "stream",
          "name": "stdout",
          "text": [
            "String Input: vadjbdbdj\n",
            "v , 1\n",
            "a , 1\n",
            "d , 3\n",
            "j , 2\n",
            "b , 2\n"
          ]
        }
      ]
    },
    {
      "cell_type": "markdown",
      "source": [
        "8.With   two   given   lists   [1,3,6,78,35,55]   and   [12,24,35,24,88,120,155],   write   a program to make a list whose elements are intersection of the above given lists."
      ],
      "metadata": {
        "id": "oLVMxeeVLDcw"
      }
    },
    {
      "cell_type": "code",
      "source": [
        "listA = [1,3,6,78,35,55]\n",
        "listB= [12,24,35,24,88,120,155]\n",
        "intersection = list(set(listA) & set(listB))\n",
        "print(intersection)"
      ],
      "metadata": {
        "colab": {
          "base_uri": "https://localhost:8080/"
        },
        "id": "ER_48VZZE0Kq",
        "outputId": "7faf3ed6-f75f-4611-80d4-52b531943b12"
      },
      "execution_count": null,
      "outputs": [
        {
          "output_type": "stream",
          "name": "stdout",
          "text": [
            "[35]\n"
          ]
        }
      ]
    },
    {
      "cell_type": "markdown",
      "source": [
        "9.Witha given list [12,24,35,24,88,120,155,88,120,155], write a program to print this list after removing all duplicate values with original order reserved"
      ],
      "metadata": {
        "id": "hHO3pRXMK621"
      }
    },
    {
      "cell_type": "code",
      "source": [
        "original_list = [12, 24, 35, 24, 88, 120, 155, 88, 120, 155]\n",
        "\n",
        "unique_list = []\n",
        "seen = set()\n",
        "\n",
        "for item in original_list:\n",
        "    if item not in seen:\n",
        "        unique_list.append(item)\n",
        "        seen.add(item)\n",
        "\n",
        "print(unique_list)\n"
      ],
      "metadata": {
        "colab": {
          "base_uri": "https://localhost:8080/"
        },
        "id": "olS-v2QHGIVM",
        "outputId": "4fb2b552-3f20-4a2a-bd51-ccbc7433e494"
      },
      "execution_count": null,
      "outputs": [
        {
          "output_type": "stream",
          "name": "stdout",
          "text": [
            "[12, 24, 35, 88, 120, 155]\n"
          ]
        }
      ]
    },
    {
      "cell_type": "markdown",
      "source": [
        "10.By using list comprehension, please write a program to print the list after removing the value 24 in [12,24,35,24,88,120,155]."
      ],
      "metadata": {
        "id": "A4V1leRYK3xQ"
      }
    },
    {
      "cell_type": "code",
      "source": [
        "original_list = [12, 24, 35, 24, 88, 120, 155]\n",
        "\n",
        "filtered_list = [x for x in original_list if x != 24]\n",
        "\n",
        "print(filtered_list)\n"
      ],
      "metadata": {
        "colab": {
          "base_uri": "https://localhost:8080/"
        },
        "id": "GUQ2itgnGmaB",
        "outputId": "51173a68-0516-44ca-ac44-0d3f2f73e41e"
      },
      "execution_count": null,
      "outputs": [
        {
          "output_type": "stream",
          "name": "stdout",
          "text": [
            "[12, 35, 88, 120, 155]\n"
          ]
        }
      ]
    },
    {
      "cell_type": "markdown",
      "source": [
        "11.By using list comprehension, please write a program to print the list after removing the 0th,4th,5th numbers in [12,24,35,70,88,120,155]."
      ],
      "metadata": {
        "id": "8BJ5g419Krx4"
      }
    },
    {
      "cell_type": "code",
      "source": [
        "original_list = [12,24,35,70,88,120,155]\n",
        "\n",
        "filtered_list = [item for i, item in enumerate(original_list) if i not in (0, 4, 5)]\n",
        "\n",
        "print(filtered_list)\n"
      ],
      "metadata": {
        "colab": {
          "base_uri": "https://localhost:8080/"
        },
        "id": "HY_W8AAGIaBq",
        "outputId": "f4bdb653-02a6-4168-b607-c2aba651a797"
      },
      "execution_count": null,
      "outputs": [
        {
          "output_type": "stream",
          "name": "stdout",
          "text": [
            "[24, 35, 70, 155]\n"
          ]
        }
      ]
    },
    {
      "cell_type": "markdown",
      "source": [
        "12.By using list comprehension, please write a program to print the list after removing delete numbers which are divisible by 5 and 7 in [12,24,35,70,88,120,155]."
      ],
      "metadata": {
        "id": "SPFdfId6Km9b"
      }
    },
    {
      "cell_type": "code",
      "source": [
        "original_list = [12,24,35,70,88,120,155]\n",
        "\n",
        "filtered_list = [x for x in original_list if (x % 5 != 0 or x % 7 != 0)]\n",
        "\n",
        "print(filtered_list)"
      ],
      "metadata": {
        "colab": {
          "base_uri": "https://localhost:8080/"
        },
        "id": "v1zCidUvJIO7",
        "outputId": "5bceeee3-dc27-4add-f482-89c643f8d826"
      },
      "execution_count": null,
      "outputs": [
        {
          "output_type": "stream",
          "name": "stdout",
          "text": [
            "[12, 24, 88, 120, 155]\n"
          ]
        }
      ]
    },
    {
      "cell_type": "markdown",
      "source": [
        "13.Please  write  a  program  to  randomly  generate  a  list  with  5  numbers,  which  are divisible by 5 and 7 , between 1 and 1000 inclusive."
      ],
      "metadata": {
        "id": "5NFWDBHKKdfx"
      }
    },
    {
      "cell_type": "code",
      "source": [
        "import random\n",
        "eligible_numbers = [x for x in range(1, 1001) if x % 35 == 0]\n",
        "\n",
        "random_numbers = random.sample(eligible_numbers, 5)\n",
        "\n",
        "print(random_numbers)\n"
      ],
      "metadata": {
        "colab": {
          "base_uri": "https://localhost:8080/"
        },
        "id": "BkKcOZxaKAFP",
        "outputId": "9f46749f-076d-4242-b8d7-fe9f434b7e3b"
      },
      "execution_count": null,
      "outputs": [
        {
          "output_type": "stream",
          "name": "stdout",
          "text": [
            "[735, 175, 70, 560, 420]\n"
          ]
        }
      ]
    },
    {
      "cell_type": "markdown",
      "source": [
        "14.Write  a  program  to  compute  1/2+2/3+3/4+...+n/n+1  with  a given  n  input  by console (n>0).Example:If the following n is given as input to the program:5Then, the output of the program should be:3.55\n"
      ],
      "metadata": {
        "id": "Vix3ImsIKYTm"
      }
    },
    {
      "cell_type": "code",
      "source": [
        "n = int(input(\"Enter a positive integer (n > 0): \"))\n",
        "\n",
        "if n <= 0:\n",
        "    print(\"Please enter a number greater than 0.\")\n",
        "else:\n",
        "    result = sum([i / (i + 1) for i in range(1, n + 1)])\n",
        "    print(\"Sum of the series is:\", round(result, 2))\n"
      ],
      "metadata": {
        "colab": {
          "base_uri": "https://localhost:8080/"
        },
        "id": "tOx3bbAFKNZk",
        "outputId": "c1d7868e-ca08-490a-e449-52892b3333aa"
      },
      "execution_count": null,
      "outputs": [
        {
          "output_type": "stream",
          "name": "stdout",
          "text": [
            "Enter a positive integer (n > 0): 5\n",
            "Sum of the series is: 3.55\n"
          ]
        }
      ]
    }
  ]
}